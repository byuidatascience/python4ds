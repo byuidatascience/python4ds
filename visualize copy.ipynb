{
  "cells": [
    {
      "cell_type": "markdown",
      "metadata": {},
      "source": [
        "# Data visualisation\n",
        "\n",
        "## Introduction\n",
        "\n",
        "> \"The simple graph has brought more information to the data analyst’s mind \n",
        "> than any other device.\" --- John Tukey\n",
        "\n",
        "This chapter will teach you how to visualise your data using Altair. Python has several systems for making graphs, but altiar is one of the most elegant and versatile. Altair implements the __declarative visualization__ much like the __grammar of graphics__, a coherent system for describing and building graphs. With altair, you can do more faster by learning one system and applying it in many places.\n",
        "\n",
        "If you'd like to learn more about Altair before you start, I'd recommend reading \"Altair: Interactive Statistical Visualizations for Python\", <https://joss.theoj.org/papers/10.21105/joss.01057.pdf>.\n",
        "\n",
        "We should note that we are building this book using R with the package bookdown.  Rendering Altair graphics using a python chunk is not straight forward but is not important for our use in VS Code. In VS Code the example chunks will render in the interactive Python viewer automatically. The following R code chunks show how we are rendering the Altair graphics in this book. Thanks to ijlyttle for [his GitHub Gist](https://gist.github.com/ijlyttle/aa314d02b5f7f85702ea2a648393b21f).\n",
        "\n",
        "<!-- # ```{r, echo=FALSE}\n",
        "# vegawidget::as_vegaspec(py$chart$to_json()) -->\n",
        "\n",
        "# For Python examples that show chart.save()\n",
        "\n",
        "<!-- # ```{r, message = FALSE, echo=FALSE}\n",
        "# knitr::include_graphics(\"screenshots/chartp_chartleft.png\")\n",
        "# ``` -->\n",
        "\n",
        "### Prerequisites\n",
        "\n",
        "This chapter focusses on Altair. Language has been shifted using the material from [Altair's materials](https://altair-viz.github.io/index.html). To access the datasets, help pages, and functions that we will use in this chapter, load the Python data science tools by running this code:\n",
        "\n",
        ":::: {.columns}\n",
        "::: {.column width=\"49%\"}\n",
        "###### Altair"
      ],
      "id": "b19f0bc1"
    },
    {
      "cell_type": "code",
      "metadata": {},
      "source": [
        "import pandas as pd \n",
        "import numpy as np   \n",
        "import altair as alt   "
      ],
      "id": "d40dd6e0",
      "execution_count": null,
      "outputs": []
    },
    {
      "cell_type": "markdown",
      "metadata": {},
      "source": [
        ":::\n",
        "::: {.column width=\"1%\"}\n",
        "<!-- blank -->\n",
        ":::\n",
        "::: {.column width=\"49%\"}\n",
        "###### Plotly Express"
      ],
      "id": "beb8c164"
    },
    {
      "cell_type": "code",
      "metadata": {},
      "source": [
        "import pandas as pd\n",
        "import numpy as np\n",
        "import plotly.express as px"
      ],
      "id": "7bbde41b",
      "execution_count": null,
      "outputs": []
    },
    {
      "cell_type": "markdown",
      "metadata": {},
      "source": [
        ":::\n",
        "::::\n",
        "\n",
        "\n",
        "If you run this code and get the error message \"No module named 'altair'\" or \"No module named 'pandas'\", you'll need to first install them.\n"
      ],
      "id": "5039fb3e"
    },
    {
      "cell_type": "code",
      "metadata": {},
      "source": [
        "#| eval: FALSE\n",
        "python -m pip install pandas altair"
      ],
      "id": "0d477db6",
      "execution_count": null,
      "outputs": []
    },
    {
      "cell_type": "markdown",
      "metadata": {},
      "source": [
        "You only need to install a package once, but you need to reload it every time you start a new session.\n",
        "\n",
        "### Altair data management\n",
        "\n",
        "When [specifying data in Altair](https://altair-viz.github.io/user_guide/data.html#user-guide-data), we can use pandas DataFrame objects or other Altair options. According to the [Altair documentation](https://altair-viz.github.io/user_guide/faq.html#why-does-altair-lead-to-such-extremely-large-notebooks), the use of a pandas DataFrame will prompt Altair to store the entire data set in JSON format in the chart object. You should be carefully creating Altair specs with all the data in the chart object for use in HTML or Jupyter Notebooks. If you try to plot a data set with more than 5000 rows, Altair will return a [maxRowsError](https://altair-viz.github.io/user_guide/faq.html#altair-faq-max-rows).\n",
        "\n",
        "In this book, we will save the Altair chart as a '.png' file to avoid dealing with large stored data in our '.html' files. We have elected to use the [Local Filesystem](https://altair-viz.github.io/user_guide/faq.html#local-filesystem) approach proposed by Altair. They do note that the filesystem approach may not work on some cloud-based Jupyter notebook services.\n"
      ],
      "id": "8a1c591f"
    },
    {
      "cell_type": "code",
      "metadata": {},
      "source": [
        "alt.data_transformers.enable('json')"
      ],
      "id": "66ece085",
      "execution_count": null,
      "outputs": []
    },
    {
      "cell_type": "markdown",
      "metadata": {},
      "source": [
        "## First steps\n",
        "\n",
        "Let's use our first graph to answer a question: Do cars with big engines use more fuel than cars with small engines? You probably already have an answer, but try to make your answer precise. What does the relationship between engine size and fuel efficiency look like? Is it positive? Negative? Linear? Nonlinear?\n",
        "\n",
        "### The `mpg` data frame\n",
        "\n",
        "You can test your answer with the `mpg` __data frame__ found in ggplot2 (aka  `ggplot2::mpg`). A data frame is a rectangular collection of variables (in the columns) and observations (in the rows). The *'mpg'* data contains observations collected by the US Environmental Protection Agency on 38 models of car. We will identify the *'mpg'* data using `mpg` for the remainder of this introduction.\n"
      ],
      "id": "b0065827"
    },
    {
      "cell_type": "code",
      "metadata": {},
      "source": [
        "url = \"https://github.com/byuidatascience/data4python4ds/raw/master/data-raw/mpg/mpg.csv\"\n",
        "mpg = pd.read_csv(url)"
      ],
      "id": "4e259103",
      "execution_count": null,
      "outputs": []
    },
    {
      "cell_type": "markdown",
      "metadata": {},
      "source": [
        "Among the variables in `mpg` are:\n",
        "\n",
        "1. `displ`, a car's engine size, in litres.\n",
        "\n",
        "1. `hwy`, a car's fuel efficiency on the highway, in miles per gallon (mpg). \n",
        "  A car with a low fuel efficiency consumes more fuel than a car with a high \n",
        "  fuel efficiency when they travel the same distance. \n",
        "\n",
        "To learn more about `mpg`, read its format at [data4python4ds](https://github.com/byuidatascience/data4python4ds/blob/master/data.md).\n",
        "\n",
        "### Creating an Altair plot\n",
        "\n",
        "To plot `mpg`, run this code to put `displ` on the x-axis and `hwy` on the y-axis:\n"
      ],
      "id": "bfdc972c"
    },
    {
      "cell_type": "code",
      "metadata": {},
      "source": [
        "chart = (alt.Chart(mpg)\n",
        "  .encode(\n",
        "    x='displ', \n",
        "    y='hwy')\n",
        "  .mark_circle()\n",
        ")\n",
        "\n",
        "chart"
      ],
      "id": "3090576c",
      "execution_count": null,
      "outputs": []
    },
    {
      "cell_type": "markdown",
      "metadata": {},
      "source": [
        "#```{r, echo=FALSE, fig.align=\"left\"}\n",
        "#knitr::include_graphics(\"screenshots/altair_viz_1.png\")\n",
        "#````\n",
        "\n",
        "The plot shows a negative relationship between engine size (`displ`) and fuel efficiency (`hwy`). In other words, cars with big engines use more fuel. Does this confirm or refute your hypothesis about fuel efficiency and engine size?\n",
        "\n",
        "With Altair, you begin a plot with the function `Chart()`. `Chart()` creates a Chart object that you can add layers to. The only argument of `Chart()` is the dataset to use in the graph. So `Chart(mpg)` creates an Chart object upon which we can marks.\n",
        "\n",
        "You complete your graph by adding one or more marks to `Chart()`. The attribute `.mark_point()` adds a layer of points to your plot, which creates a scatterplot. Altair comes with many mark methods that each add a different type of layer to a plot. You'll learn a whole bunch of them throughout this chapter.\n",
        "\n",
        "Each mark method in Altair has an `.encode()` attribute. This defines how variables in your dataset are encoded to visual properties. The `.encode()` method is always paired with `x` and `y` arguments to specify which variables to map to the x and y axes. Altair looks for the encoded variables in the `data` argument, in this case, `mpg`. For pandas dataframes, Altair automatically determines the appropriate data type for the mapped column.\n",
        "\n",
        "### A graphing template\n",
        "\n",
        "Let's turn this code into a reusable template for making graphs with ggplot2. To make a graph, replace the bracketed sections in the code below with a dataset, a geom function, or a collection of mappings.\n",
        "\n",
        "````python\n",
        "(alt.Chart(<DATA>)  \n",
        "   .encode(<ENCODINGS>)\n",
        "    <.mark_*()>)\n",
        "````\n",
        "\n",
        "The rest of this chapter will show you how to complete and extend this template to make different types of graphs. We will begin with the `<ENCODINGS>` component.\n",
        "\n",
        "### Exercises\n",
        "\n",
        "1.  Run `Chart(mpg).mark_point()`. What do you see?\n",
        "\n",
        "1.  How many rows are in `mpg`? How many columns?\n",
        "\n",
        "1.  What does the `drv` variable describe?  \n",
        "\n",
        "1.  Make a scatterplot of `hwy` vs `cyl`.\n",
        "\n",
        "1.  What happens if you make a scatterplot of `class` vs `drv`? Why is\n",
        "    the plot not useful?\n",
        "\n",
        "## Aesthetic mappings\n",
        "\n",
        "> \"The greatest value of a picture is when it forces us to notice what we\n",
        "> never expected to see.\" --- John Tukey\n",
        "\n",
        "In the plot below, one group of points (highlighted in red) seems to fall outside of the linear trend. These cars have a higher mileage than you might expect. How can you explain these cars?\n"
      ],
      "id": "fa071ee9"
    },
    {
      "cell_type": "code",
      "metadata": {},
      "source": [
        "chartC = (alt.Chart(mpg)\n",
        "  .encode(\n",
        "    x = 'displ',\n",
        "    y = 'hwy',\n",
        "    color = alt.condition(\n",
        "      (alt.datum.displ > 5) & (alt.datum.hwy > 20) , \n",
        "      alt.ColorValue('red'), \n",
        "      alt.ColorValue('black')),\n",
        "    size = alt.condition(\n",
        "      (alt.datum.displ > 5) & (alt.datum.hwy > 20), \n",
        "      alt.SizeValue(50),\n",
        "      alt.SizeValue(25))\n",
        "      )\n",
        "  .mark_circle())\n",
        "\n",
        "chartC"
      ],
      "id": "18b04815",
      "execution_count": null,
      "outputs": []
    },
    {
      "cell_type": "markdown",
      "metadata": {},
      "source": [
        "#```{r, echo=FALSE, fig.align=\"left\"}\n",
        "#knitr::include_graphics(\"screenshots/altair_condition_chart.png\")\n",
        "#```\n",
        "\n",
        "\n",
        "Let's hypothesize that the cars are hybrids. One way to test this hypothesis is to look at the `class` value for each car. The `class` variable of the `mpg` dataset classifies cars into groups such as compact, midsize, and SUV. If the outlying points are hybrids, they should be classified as compact cars or, perhaps, subcompact cars (keep in mind that this data was collected before hybrid trucks and SUVs became popular).\n",
        "\n",
        "You can add a third variable, like `class`, to a two dimensional scatterplot by mapping it to an __encoding__. An encoding is a visual property of the objects in your plot. Encodings include things like the size, the shape, or the color of your points. You can display a point (like the one below) in different ways by changing the values of its encoded properties. Since we already use the word \"value\" to describe data, let's use the word \"level\" to describe encoded properties. Here we change the levels of a point's size, shape, and color to make the point small, triangular, or blue:\n",
        "\n",
        "#```{r, echo=FALSE, fig.align=\"left\"}\n",
        "#knitr::include_graphics(\"images/encode_example.png\")\n",
        "#```\n",
        "\n",
        "You can convey information about your data by mapping the encodings in your plot to the variables in your dataset. For example, you can map the colors of your points to the `class` variable to reveal the class of each car.\n"
      ],
      "id": "898407b0"
    },
    {
      "cell_type": "code",
      "metadata": {},
      "source": [
        "chart = (alt.Chart(mpg)\n",
        "  .encode(\n",
        "    x = \"displ\",\n",
        "    y = \"hwy\",\n",
        "    color = \"class\"\n",
        "    )\n",
        "  .mark_circle())\n",
        "\n",
        "chart"
      ],
      "id": "4cc55090",
      "execution_count": null,
      "outputs": []
    },
    {
      "cell_type": "markdown",
      "metadata": {},
      "source": [
        "#```{r, echo=FALSE, fig.align=\"left\"}\n",
        "#knitr::include_graphics(\"screenshots/altair_viz_2.png\")\n",
        "#```\n",
        "\n",
        "(We don't prefer British English, like Hadley, so don't use `colour` instead of `color`.)\n",
        "\n",
        "To map an encoding to a variable, associate the name of the encoding to the name of the variable inside `.encode()`. Altair will automatically assign a unique level of the encoding (here a unique color) to each unique value of the variable, a process known as __scaling__. Altair will also add a legend that explains which levels correspond to which values.\n",
        "\n",
        "The colors reveal that many of the unusual points are two-seater cars. These cars don't seem like hybrids, and are, in fact, sports cars! Sports cars have large engines like SUVs and pickup trucks, but small bodies like midsize and compact cars, which improves their gas mileage. In hindsight, these cars were unlikely to be hybrids since they have large engines.\n",
        "\n",
        "In the above example, we mapped `class` to the color encoding, but we could have mapped `class` to the size encoding in the same way. In this case, the exact size of each point would reveal its class affiliation. Mapping an unordered variable (`class`) to an ordered aesthetic (`size`) is not a good idea.\n"
      ],
      "id": "e2cc1c21"
    },
    {
      "cell_type": "code",
      "metadata": {},
      "source": [
        "chart = (alt.Chart(mpg)\n",
        "  .encode(\n",
        "    x = \"displ\",\n",
        "    y = \"hwy\",\n",
        "    size = \"class\"\n",
        "    )\n",
        "  .mark_circle())\n",
        "  \n",
        "chart"
      ],
      "id": "1a78310a",
      "execution_count": null,
      "outputs": []
    },
    {
      "cell_type": "markdown",
      "metadata": {},
      "source": [
        "#```{r, echo=FALSE, fig.align=\"left\"}\n",
        "#knitr::include_graphics(\"screenshots/altair_viz_3.png\")\n",
        "#```\n",
        "\n",
        "Or we could have mapped `class` to the _opacity_ encoding, which controls the transparency of the points, or to the shape encoding, which controls the shape of the points.\n"
      ],
      "id": "d954ba47"
    },
    {
      "cell_type": "code",
      "metadata": {},
      "source": [
        "# First\n",
        "chart1 = (alt.Chart(mpg)\n",
        "  .encode(\n",
        "    x = \"displ\",\n",
        "    y = \"hwy\",\n",
        "    opacity = \"class\"\n",
        "    )\n",
        "  .mark_circle())\n",
        "\n",
        "# Second\n",
        "chart2 = (alt.Chart(mpg)\n",
        "  .encode(\n",
        "    x = \"displ\",\n",
        "    y = \"hwy\",\n",
        "    shape = \"class\"\n",
        "    )\n",
        "  .mark_point())\n",
        "  \n",
        "chart1"
      ],
      "id": "6c5aaa8e",
      "execution_count": null,
      "outputs": []
    },
    {
      "cell_type": "code",
      "metadata": {},
      "source": [
        "chart2"
      ],
      "id": "199c45d7",
      "execution_count": null,
      "outputs": []
    },
    {
      "cell_type": "markdown",
      "metadata": {},
      "source": [
        "#```{r, fig.width = 3, fig.align = 'default', out.width = \"50%\", message = FALSE, echo=FALSE}\n",
        "#knitr::include_graphics(\"screenshots/altair_opacity.png\")\n",
        "#knitr::include_graphics(\"screenshots/altair_shape.png\")\n",
        "#```\n",
        "\n",
        "Altair will only use 8 shapes for one chart. Charting more than 8 shapes is not recommended as the shapes simply recycle.\n",
        "\n",
        "For each encoding, you use `.encode()` to associate the name of the encoding with a variable to display. The `.encode()` function gathers together each of the encoded mappings used by a layer and passes them to the layer's mapping argument. The syntax highlights a useful insight about `x` and `y`: the x and y locations of a point are themselves encodings, visual properties that you can map to variables to display information about the data.\n",
        "\n",
        "Once you map an encoding, Altair takes care of the rest. It selects a reasonable scale to use with the encoding, and it constructs a legend that explains the mapping between levels and values. For x and y aesthetics, Altair does not create a legend, but it creates an axis line with tick marks and a label. The axis line acts as a legend; it explains the mapping between locations and values.\n",
        "\n",
        "You can also _configure_ the encoding properties of your mark manually. For example, we can make all of the points in our plot blue:\n"
      ],
      "id": "1d339179"
    },
    {
      "cell_type": "code",
      "metadata": {},
      "source": [
        "chart = (alt.Chart(mpg)\n",
        "  .encode(\n",
        "    x = \"displ\",\n",
        "    y = \"hwy\",\n",
        "    color = alt.value(\"blue\")\n",
        "    )\n",
        "  .mark_circle())\n",
        "\n",
        "chart"
      ],
      "id": "87806422",
      "execution_count": null,
      "outputs": []
    },
    {
      "cell_type": "markdown",
      "metadata": {},
      "source": [
        "#```{r, echo=FALSE, fig.align=\"left\"}\n",
        "#knitr::include_graphics(\"screenshots/altair_viz_4.png\")\n",
        "#```\n",
        "\n",
        "Here, the color doesn't convey information about a variable, but only changes the appearance of the plot. To set an encoding manually, use `alt.value()` by name as an argument of your `.encode()` function; i.e. the value goes _inside_ of `alt.value()`. You'll need to pick a level that makes sense for that encoding:\n",
        "\n",
        "* The name of a color as a character string.\n",
        "\n",
        "* The size of a point in pixels.\n",
        "\n",
        "* The shape of a point as a character string.\n",
        "\n",
        "Note that only a limited set of mark properties can be bound to encodings, so for some (e.g. fillOpacity, strokeOpacity, etc.) the encoding approach using `alt.value()` is not available. Encoding settings will always override local or global configuration settings. There are other methods for manually encoding properties as explained in the [Altair documentation](https://altair-viz.github.io/user_guide/customization.html)\n",
        "\n",
        "### Exercises\n",
        "\n",
        "1.  Which variables in `mpg` are categorical? Which variables are continuous?\n",
        "    How can you see this information when you run `mpg`? (Hint `mpg.dtypes`)\n",
        "\n",
        "1.  Map a continuous variable to `color`, `size`, and `shape`. How do\n",
        "    these aesthetics behave differently for categorical vs. continuous\n",
        "    variables?\n",
        "\n",
        "1.  What happens if you map the same variable to multiple encodings?\n",
        "\n",
        "1.  What does the `stroke` encoding do? What shapes does it work with?\n",
        "    (Hint: use `mark_point()`)\n",
        "\n",
        "\n",
        "## Common problems\n",
        "\n",
        "As you start to run Python code, you're likely to run into problems. Don't worry --- it happens to everyone. I have been writing Python code for months, and every day I still write code that doesn't work!\n",
        "\n",
        "Start by carefully comparing the code that you're running to the code in the book. Python is extremely picky, and a misplaced character can make all the difference. Make sure that every `(` is matched with a `)` and every `\"` is paired with another `\"`.\n",
        "\n",
        "One common problem when creating Altair graphics as shown in this book, is to put the `()` in the wrong place: the `(` comes before the `alt.chart()` command and the `)` has to come at the end of the command.\n",
        "\n",
        "For example the code below works in Python.\n",
        "\n",
        "````python\n",
        "alt.Chart(mpg).encode(x = \"displ\", y = \"hwy\").mark_circle()\n",
        "````\n",
        "\n",
        "However, the complexity of the more details graphics necessitates placing the code on multiple lines. When using multiple lines we need the enclosing `()`. Make sure you haven't accidentally excluded a `(` or `)` like this\n",
        "\n",
        "````Python\n",
        "(alt.Chart(mpg)\n",
        "  .encode(\n",
        "    x = \"displ\",\n",
        "    y = \"hwy\")\n",
        "  .mark_circle()\n",
        "````\n",
        "\n",
        "or placed the `()` incorrectly like this\n",
        "\n",
        "````Python\n",
        "(chart = alt.Chart(mpg)\n",
        "  .encode(\n",
        "    x = \"displ\",\n",
        "    y = \"hwy\")\n",
        "  .mark_circle()\n",
        ")    \n",
        "````\n",
        "\n",
        "If you're still stuck, try the help. You can get help about any Altair function from their website - <https://altair-viz.github.io/>, or hovering over the function name in VS Code. If that doesn't help, carefully read the error message. Sometimes the answer will be buried there! But when you're new to Python, the answer might be in the error message but you don't yet know how to understand it. Another great tool is Google: try googling the error message, as it's likely someone else has had the same problem, and has gotten help online.\n",
        "\n",
        "## Facets\n",
        "\n",
        "One way to add additional variables is with encodings. Another way, particularly useful for categorical variables, is to split your plot into __facets__, subplots that each display one subset of the data.\n",
        "\n",
        "To facet your plot by a single variable, use `.facet()`. Assign a discrete variable to the `.facet` argument and adjust the size of your facet grid using the `columns` argument.\n"
      ],
      "id": "4af58cdb"
    },
    {
      "cell_type": "code",
      "metadata": {},
      "source": [
        "chart_f = (alt.Chart(mpg)\n",
        "  .encode(\n",
        "    x = \"displ\",\n",
        "    y = \"hwy\",\n",
        "   )\n",
        "  .mark_circle()\n",
        "  .facet(\n",
        "    facet = \"class\",\n",
        "    columns = 4\n",
        "  ))\n",
        "  \n",
        "chart_f"
      ],
      "id": "fc217e00",
      "execution_count": null,
      "outputs": []
    },
    {
      "cell_type": "markdown",
      "metadata": {},
      "source": [
        "#```{R, echo=FALSE, fig.align=\"left\"}\n",
        "#knitr::include_graphics(\"screenshots/altair_facet_1.png\")\n",
        "#```\n",
        "\n",
        "\n",
        "To facet your plot on the combination of two variables, the first argument of `.facet()` is `column` and the second is `row`. This time the formula should contain two discrete variable names.\n"
      ],
      "id": "b6a7016f"
    },
    {
      "cell_type": "code",
      "metadata": {},
      "source": [
        "chart_f2 = (alt.Chart(mpg)\n",
        "  .encode(\n",
        "    x = \"displ\",\n",
        "    y = \"hwy\",\n",
        "    )\n",
        "  .mark_circle()\n",
        "  .facet(\n",
        "    column = \"drv\",\n",
        "    row = \"cyl\"\n",
        "    ))\n",
        "  \n",
        "chart_f2.save(\"screenshots/altair_facet_2.png\")"
      ],
      "id": "dd64b3ff",
      "execution_count": null,
      "outputs": []
    },
    {
      "cell_type": "markdown",
      "metadata": {},
      "source": [
        "#```{R, echo=FALSE, fig.align=\"left\"}\n",
        "#knitr::include_graphics(\"screenshots/altair_facet_2.png\")\n",
        "#```\n",
        "\n",
        "If you prefer to not facet in the rows or columns dimension, simply remove that facet argument. You can read more about [compound charts in the Altair documentation](https://altair-viz.github.io/user_guide/compound_charts.html).\n",
        "\n",
        "### Exercises\n",
        "\n",
        "1.  What happens if you facet on a continuous variable?\n",
        "\n",
        "1.  What do the empty cells in plot with `.facet(column = \"drv\", row = \"cyl\")` mean?\n",
        "    How do they relate to this plot?\n"
      ],
      "id": "709e8343"
    },
    {
      "cell_type": "code",
      "metadata": {
        "md-indent": "    "
      },
      "source": [
        "(alt.Chart(mpg)\n",
        "  .encode(\n",
        "    x = \"drv\",\n",
        "    y = \"cyl\"\n",
        "    )\n",
        "  .mark_circle())"
      ],
      "id": "663ac0cd",
      "execution_count": null,
      "outputs": []
    },
    {
      "cell_type": "markdown",
      "metadata": {},
      "source": [
        "1.  What plots does the following code make? What does `.` do?\n"
      ],
      "id": "1894e9b3"
    },
    {
      "cell_type": "code",
      "metadata": {
        "md-indent": "    "
      },
      "source": [
        "(alt.Chart(mpg)\n",
        "  .encode(\n",
        "    x = \"displ\",\n",
        "    y = \"hwy\"\n",
        "    )\n",
        "  .mark_circle()\n",
        "  .facet(column = \"drv\"))\n",
        "\n",
        "(alt.Chart(mpg)\n",
        "  .encode(\n",
        "    x = \"displ\",\n",
        "    y = \"hwy\"\n",
        "    )\n",
        "  .mark_circle()\n",
        "  .facet(row = \"cyl\"))"
      ],
      "id": "a418e03c",
      "execution_count": null,
      "outputs": []
    },
    {
      "cell_type": "markdown",
      "metadata": {},
      "source": [
        "1.  Take the first faceted plot in this section:\n",
        "\n",
        "    What are the advantages to using faceting instead of the colour aesthetic?\n",
        "    What are the disadvantages? How might the balance change if you had a\n",
        "    larger dataset?\n",
        "\n",
        "1.  When using `facet()` you should usually put the variable with more\n",
        "    unique levels in the columns. Why?\n",
        "\n",
        "## Geometric objects\n",
        "\n",
        "How are these two plots similar?\n"
      ],
      "id": "ce980f38"
    },
    {
      "cell_type": "code",
      "metadata": {},
      "source": [
        "chartp = (alt.Chart(mpg)\n",
        "  .encode(\n",
        "    x = \"displ\",\n",
        "    y = \"hwy\"\n",
        "    )\n",
        "  .mark_circle())\n",
        "\n",
        "chartf = (alt.Chart(mpg)\n",
        "  .encode(\n",
        "    x = \"displ\",\n",
        "    y = \"hwy\"\n",
        "    )\n",
        "  .transform_loess(\"displ\", \"hwy\")\n",
        "  .mark_line()\n",
        "  )\n",
        "\n",
        "chartp"
      ],
      "id": "e698d261",
      "execution_count": null,
      "outputs": []
    },
    {
      "cell_type": "code",
      "metadata": {},
      "source": [
        "chartf"
      ],
      "id": "d9274aea",
      "execution_count": null,
      "outputs": []
    },
    {
      "cell_type": "markdown",
      "metadata": {},
      "source": [
        "#```{r, fig.width = 3, fig.align = 'default', out.width = \"50%\", message = FALSE, echo=FALSE}\n",
        "#knitr::include_graphics(\"screenshots/altair_basic_points.png\")\n",
        "#knitr::include_graphics(\"screenshots/altair_smooth_line.png\")\n",
        "#```\n",
        "\n",
        "\n",
        "\n",
        "Both plots contain the same x variable, the same y variable, and both describe the same data. But the plots are not identical. Each plot uses a different visual object to represent the data. In Altair syntax, we say that they use different __marks__.\n",
        "\n",
        "A __mark__ is the geometrical object that a plot uses to represent data. People often describe plots by the type of mark that the plot uses. For example, bar charts use bar marks, line charts use line marks, boxplots use boxplot marks, and so on. Scatterplots break the trend; they use the point mark. As we see above, you can use different marks to plot the same data. The first plot uses the point mark, and the second plot uses the line mark, a smooth line fitted to the data is calculated using a transformation. To change the mark in your plot, change the mark function that you add to `Chart()`. \n",
        "\n",
        "Every mark function in Altair has `encode` arguments. However, not every encoding works with every mark. You could set the shape of a point, but you couldn't set the \"shape\" of a line. On the other hand, you _could_ set the type of line. `.mark_line()` will draw a different line, with a different `strokeDash`, for each unique value of the variable that you map to `strokeDash`.\n"
      ],
      "id": "6e8c857c"
    },
    {
      "cell_type": "code",
      "metadata": {},
      "source": [
        "chartl = (alt.Chart(mpg)\n",
        "  .transform_loess(\"displ\", \"hwy\", groupby = [\"drv\"])\n",
        "  .encode(\n",
        "    x = \"displ\",\n",
        "    y = \"hwy\",\n",
        "    strokeDash = \"drv\"\n",
        "    )\n",
        "    .mark_line())\n",
        "  \n",
        "chartl.save(\"screenshots/altair_dashed_lines.png\")"
      ],
      "id": "5fbe20a7",
      "execution_count": null,
      "outputs": []
    },
    {
      "cell_type": "markdown",
      "metadata": {},
      "source": [
        "#```{R, echo=FALSE, fig.align=\"left\"}\n",
        "#knitr::include_graphics(\"screenshots/altair_dashed_lines.png\")\n",
        "#```\n",
        "\n",
        "\n",
        "Here `.mark_line()` separates the cars into three lines based on their `drv` value, which describes a car's drivetrain. One line describes all of the points with a `4` value, one line describes all of the points with an `f` value, and one line describes all of the points with an `r` value. Here, `4` stands for four-wheel drive, `f` for front-wheel drive, and `r` for rear-wheel drive.\n",
        "\n",
        "If this sounds strange, we can make it more clear by overlaying the lines on top of the raw data and then coloring everything according to `drv`.\n"
      ],
      "id": "2cc7afac"
    },
    {
      "cell_type": "code",
      "metadata": {},
      "source": [
        "chartp = (alt.Chart(mpg).\n",
        "  mark_circle().\n",
        "  encode(\n",
        "    x = \"displ\",\n",
        "    y = \"hwy\",\n",
        "    strokeDash = \"drv\",\n",
        "    color = \"drv\"\n",
        "  ))\n",
        "\n",
        "chart = chartp + chartp.transform_loess(\"displ\", \"hwy\", groupby = [\"drv\"]).mark_line()\n",
        "\n",
        "chart.save(\"screenshots/altair_points_dashed_lines.png\")"
      ],
      "id": "270ddce9",
      "execution_count": null,
      "outputs": []
    },
    {
      "cell_type": "markdown",
      "metadata": {},
      "source": [
        "<!-- ```{R, echo=FALSE, fig.align=\"left\"}\n",
        "#knitr::include_graphics(\"screenshots/altair_points_dashed_lines.png\")\n",
        "``` -->\n",
        "\n",
        "Notice that this plot contains two marks in the same graph! If this makes you excited, buckle up. We will learn how to place multiple marks on the same chart very soon.\n",
        "\n",
        "Altair provides about 15 marks. The best way to get a comprehensive overview is the Altair marks page, which you can find at <https://altair-viz.github.io/user_guide/marks.html>. \n",
        "\n",
        "Many marks, like `.mark_line()`, use a single mark object to display multiple rows of data. For these marks, you can set the `detail` encoding to a categorical variable to draw multiple objects. Altair will draw a separate object for each unique value of the detail variable. In practice, Altair will automatically group the data for these marks whenever you map an encoding to a discrete variable (as in the `strokeDash` example). It is convenient to rely on this feature because the detail encoding by itself does not add a legend or distinguishing features to the marks.\n"
      ],
      "id": "14c055d5"
    },
    {
      "cell_type": "code",
      "metadata": {},
      "source": [
        "chartleft = (alt.Chart(mpg)\n",
        "  .encode(\n",
        "    x = \"displ\",\n",
        "    y = \"hwy\",\n",
        "    )\n",
        "  .transform_loess(\"displ\", \"hwy\")\n",
        "  .mark_line())\n",
        "\n",
        "chartmiddle = (alt.Chart(mpg)\n",
        "  .encode(\n",
        "    x = \"displ\",\n",
        "    y = \"hwy\",\n",
        "    detail = \"drv\"\n",
        "    )\n",
        "  .transform_loess(\"displ\", \"hwy\", groupby = [\"drv\"])\n",
        "  .mark_line())\n",
        "\n",
        "chartright = (alt.Chart(mpg)\n",
        "  .encode(\n",
        "    x = \"displ\",\n",
        "    y = \"hwy\",\n",
        "    color=alt.Color(\"drv\", legend=None)\n",
        "    )\n",
        "  .transform_loess(\"displ\", \"hwy\", groupby = [\"drv\"])\n",
        "  .mark_line())\n",
        "  \n",
        "chartleft.save(\"screenshots/altair_chartleft.png\")\n",
        "chartmiddle.save(\"screenshots/altair_chartmiddle.png\")\n",
        "chartright.save(\"screenshots/altair_chartright.png\")"
      ],
      "id": "a993aa36",
      "execution_count": null,
      "outputs": []
    },
    {
      "cell_type": "markdown",
      "metadata": {},
      "source": [
        "<!-- ```{r, fig.width = 3, fig.align = 'default', out.width = \"33%\", message = FALSE, echo=FALSE}\n",
        "#knitr::include_graphics(\"screenshots/altair_chartleft.png\")\n",
        "#knitr::include_graphics(\"screenshots/altair_chartmiddle.png\")\n",
        "#knitr::include_graphics(\"screenshots/altair_chartright.png\")\n",
        "``` -->\n",
        "\n",
        "To display multiple marks in the same plot, you can used [layered charts](https://altair-viz.github.io/user_guide/compound_charts.html) as shown in the example below that uses the `chartleft` object from the above code chunk:"
      ],
      "id": "d0e45e6c"
    },
    {
      "cell_type": "code",
      "metadata": {},
      "source": [
        "chartp = (alt.Chart(mpg)\n",
        "  .encode(\n",
        "    x = \"displ\",\n",
        "    y = \"hwy\"\n",
        "  )\n",
        "  .mark_circle()\n",
        ")\n",
        "\n",
        "chart = chartp + chartleft  \n",
        "\n",
        "chart.save(\"screenshots/altair_chartcombine.png\")\n"
      ],
      "id": "2d9170df",
      "execution_count": null,
      "outputs": []
    },
    {
      "cell_type": "markdown",
      "metadata": {},
      "source": [
        "<!-- ```{r, message = FALSE, echo=FALSE}\n",
        "#knitr::include_graphics(\"screenshots/altair_chartcombine.png\")\n",
        "``` -->\n",
        "\n",
        "This, however, introduces some duplication in our code. Imagine if you wanted to change the y-axis to display `cty` instead of `hwy`. You'd need to change the variable in two places, and you might forget to update one. You can avoid this type of repetition by passing a set of encodings to a base `alt.Chart()`. Altair will treat these encodings as global encodings that apply to each mark layer in the layered chart.  In other words, this code will produce the same plot as the previous code:"
      ],
      "id": "77371d6a"
    },
    {
      "cell_type": "code",
      "metadata": {},
      "source": [
        "base = (alt.Chart(mpg)\n",
        "  .encode(\n",
        "    x = \"displ\",\n",
        "    y = \"hwy\"\n",
        "    ))\n",
        "\n",
        "chart = base.mark_circle() + base.transform_loess(\"displ\", \"hwy\").mark_line()\n",
        "\n",
        "chart.save(\"screenshots/altair_combine_clean.png\")\n"
      ],
      "id": "dca4233e",
      "execution_count": null,
      "outputs": []
    },
    {
      "cell_type": "markdown",
      "metadata": {},
      "source": [
        "<!-- ```{r, message = FALSE, echo=FALSE}\n",
        "#knitr::include_graphics(\"screenshots/altair_combine_clean.png\")\n",
        "``` -->\n",
        "\n",
        "If you place encodings in an encode function, Altair will treat them as local mappings for the layer. It will use these mappings to extend or overwrite the base encodings _for that layer only_. This makes it possible to display different aesthetics in different layers. Alatair automatically chooses useful plot settings and chart configurations to allow you to think about data instead of the programming mechanics of the chart. You can review their guidance on [customizing visualizations](https://altair-viz.github.io/user_guide/customization.html) to see the varied ways to change the look of your graphic."
      ],
      "id": "340d7b82"
    },
    {
      "cell_type": "code",
      "metadata": {},
      "source": [
        "base =(alt.Chart(mpg)\n",
        "  .encode(\n",
        "    x = \"displ\",\n",
        "    y = \"hwy\"\n",
        "  ))\n",
        "\n",
        "chart = base.encode(color = \"drv\").mark_circle() + base.transform_loess(\"displ\", \"hwy\").mark_line()\n",
        "\n",
        "chart.save(\"screenshots/altair_combine_clean_color.png\")"
      ],
      "id": "6000dddc",
      "execution_count": null,
      "outputs": []
    },
    {
      "cell_type": "markdown",
      "metadata": {},
      "source": [
        "<!-- ```{r, message = FALSE, echo=FALSE}\n",
        "#knitr::include_graphics(\"screenshots/altair_combine_clean_color.png\")\n",
        "``` -->\n",
        "\n",
        "You can use the same idea to specify different data for each layer. Here, our smooth line displays just a subset of the `mpg` dataset, the subcompact cars. The `.transform_filter` method overrides the global data from the base chart for that layer only."
      ],
      "id": "81458cd5"
    },
    {
      "cell_type": "code",
      "metadata": {},
      "source": [
        "#column name of class does not work nicely with Altair filter.\n",
        "\n",
        "base = (alt.Chart(mpg.rename(columns = {\"class\": \"class1\"}))\n",
        "  .encode(\n",
        "    x = \"displ\",\n",
        "    y = \"hwy\"\n",
        "    ))\n",
        "\n",
        "chart_smooth_sub = (base\n",
        "  .transform_filter(alt.datum.class1 == \"subcompact\")\n",
        "  .transform_loess(\"displ\", \"hwy\")\n",
        "  .mark_line()\n",
        ")  \n",
        "\n",
        "chart = base.encode(color = \"class1\").mark_circle() + chart_smooth_sub\n",
        "\n",
        "chart.save(\"screenshots/altair_combine_clean_color_filter.png\")"
      ],
      "id": "e00155f0",
      "execution_count": null,
      "outputs": []
    },
    {
      "cell_type": "markdown",
      "metadata": {},
      "source": [
        "<!-- ```{r, message = FALSE, echo=FALSE}\n",
        "#knitr::include_graphics(\"screenshots/altair_combine_clean_color_filter.png\")\n",
        "``` -->\n",
        "\n",
        "\n",
        "(You'll learn how [pandas filter](https://pandas.pydata.org/pandas-docs/stable/reference/api/pandas.DataFrame.filter.html) works in the chapter on data transformations. To keep the same base chart, [filtering](https://altair-viz.github.io/user_guide/transform/filter.html) is done with Altair in this example: for now, just know that this command selects only the subcompact cars.)\n",
        "\n",
        "### Exercises\n",
        "\n",
        "1.  What geom would you use to draw a line chart? A boxplot?\n",
        "    A histogram? An area chart?\n",
        "\n",
        "1.  What does `legend=None` in `alt.Color()` do?  What happens if you remove it?\n",
        "    Why do you think I used it earlier in the chapter?\n",
        "\n",
        "\n",
        "1.  Recreate the Python code necessary to generate the following graphs."
      ],
      "id": "1a907286"
    },
    {
      "cell_type": "code",
      "metadata": {},
      "source": [
        "base = (alt.Chart(mpg)\n",
        "  .encode(\n",
        "    x = \"displ\",\n",
        "    y = \"hwy\"\n",
        "    ))\n",
        "    \n",
        "smooth1 = base.transform_loess(\"displ\", \"hwy\").mark_line()\n",
        "smooth3 = base.transform_loess(\"displ\", \"hwy\", groupby = [\"drv\"]).mark_line()\n",
        "\n",
        "chart1 = base.mark_circle() + smooth1\n",
        "chart2 = base.mark_circle() + smooth3.encode(detail = \"drv\")\n",
        "chart3 = base.mark_circle().encode(color = \"drv\") + smooth3.encode(color = \"drv\")\n",
        "chart4 = base.mark_circle().encode(color = \"drv\") + smooth1\n",
        "chart5 = base.mark_circle().encode(color = \"drv\") + smooth3.encode(strokeDash = \"drv\")\n",
        "chart6 = (base\n",
        "  .encode(\n",
        "    color = alt.ColorValue(\"darkgrey\"),\n",
        "    size = alt.SizeValue(125)\n",
        "    )\n",
        "  .mark_point(filled = True)) + base.mark_circle().encode(color = \"drv\")\n",
        "\n",
        "chart1.save(\"screenshots/altair_q_c1.png\")\n",
        "chart2.save(\"screenshots/altair_q_c2.png\")\n",
        "chart3.save(\"screenshots/altair_q_c3.png\")\n",
        "chart4.save(\"screenshots/altair_q_c4.png\")\n",
        "chart5.save(\"screenshots/altair_q_c5.png\")\n",
        "chart6.save(\"screenshots/altair_q_c6.png\")"
      ],
      "id": "4fcd3a6e",
      "execution_count": null,
      "outputs": []
    },
    {
      "cell_type": "markdown",
      "metadata": {},
      "source": [
        "#```{r echo = FALSE, fig.width = 3, out.width = \"50%\", fig.align = \"default\", message = FALSE}\n",
        "#knitr::include_graphics(\"screenshots/altair_q_c1.png\")\n",
        "#knitr::include_graphics(\"screenshots/altair_q_c2.png\")\n",
        "#knitr::include_graphics(\"screenshots/altair_q_c3.png\")\n",
        "#knitr::include_graphics(\"screenshots/altair_q_c4.png\")\n",
        "#knitr::include_graphics(\"screenshots/altair_q_c5.png\")\n",
        "#knitr::include_graphics(\"screenshots/altair_q_c6.png\")\n",
        "````\n",
        "\n",
        "## Statistical transformations\n",
        "\n",
        "Next, let's take a look at a bar chart. Bar charts seem simple, but they are interesting because they reveal something subtle about plots. Consider a basic bar chart, as drawn with `.mark_bar()`. The following chart displays the total number of diamonds in the `diamonds` dataset, grouped by `cut`. The `diamonds` dataset comes in ggplot2 R package and can be used in Python using the following Python command. Note that we also need to use pandas to format a few of the columns as ordered categorical to have the diamonds DataFrame act like it does in R."
      ],
      "id": "557e8b5b"
    },
    {
      "cell_type": "code",
      "metadata": {},
      "source": [
        "url = \"https://github.com/byuidatascience/data4python4ds/raw/master/data-raw/diamonds/diamonds.csv\"\n",
        "diamonds = pd.read_csv(url)\n",
        "\n",
        "diamonds['cut'] = pd.Categorical(diamonds.cut, \n",
        "  ordered = True, \n",
        "  categories =  [\"Fair\", \"Good\", \"Very Good\", \"Premium\", \"Ideal\" ])\n",
        "\n",
        "diamonds['color'] = pd.Categorical(diamonds.color, \n",
        "  ordered = True, \n",
        "  categories =  [\"D\", \"E\", \"F\", \"G\", \"H\", \"I\", \"J\"])\n",
        "\n",
        "\n",
        "diamonds['clarity'] = pd.Categorical(diamonds.clarity, \n",
        "  ordered = True, \n",
        "  categories =  [\"I1\", \"SI2\", \"SI1\", \"VS2\", \"VS1\", \"VVS2\", \"VVS1\", \"IF\"])\n"
      ],
      "id": "6a2eb437",
      "execution_count": null,
      "outputs": []
    },
    {
      "cell_type": "markdown",
      "metadata": {},
      "source": [
        "It contains information about ~54,000 diamonds, including the `price`, `carat`, `color`, `clarity`, and `cut` of each diamond. The chart shows that more diamonds are available with high quality cuts than with low quality cuts. "
      ],
      "id": "b2fe11e6"
    },
    {
      "cell_type": "code",
      "metadata": {},
      "source": [
        "chart = (alt.Chart(diamonds)\n",
        "  .encode(\n",
        "    x = \"cut\",\n",
        "    y = alt.Y(\"count():Q\")\n",
        "    )\n",
        "  .mark_bar()\n",
        "  .properties(width = 400))\n",
        "\n",
        "chart"
      ],
      "id": "84b5980a",
      "execution_count": null,
      "outputs": []
    },
    {
      "cell_type": "markdown",
      "metadata": {},
      "source": [
        "#```{r, out.height=\"20%\", echo=FALSE}\n",
        "#knitr::include_graphics(\"screenshots/altair_diamond_bar.png\")\n",
        "````\n",
        "\n",
        "On the x-axis, the chart displays `cut`, a variable from `diamonds`. On the y-axis, it displays count, but count is not a variable in `diamonds`! Many graphs, like scatterplots, plot the raw values of your dataset. Other graphs, like bar charts, calculate new values to plot:\n",
        "\n",
        "* bar charts, histograms, and frequency polygons bin your data\n",
        "  and then plot bin counts, the number of points that fall in each bin.\n",
        "\n",
        "* smoothers fit a model to your data and then plot predictions from the\n",
        "  model.\n",
        "\n",
        "* boxplots compute a robust summary of the distribution and then display a\n",
        "  specially formatted box.\n",
        "\n",
        "The algorithm used to calculate new values for a graph is called a __transform__, short for transformation. The figure below describes how this process works with `.mark_bar()`.\n",
        "\n",
        "#```{r, echo = FALSE, out.width = \"100%\"}\n",
        "#knitr::include_graphics(\"images/visualization-stat-bar-altair.png\")\n",
        "````\n",
        "\n",
        "You must explicitely define the transformation a mark uses through transformations using `alt.Y()` or `alt.X()` function. For example, `mark_bar()` requires the `y` encoding `alt.Y(\"count():Q\")`. A histogram is created using `.mark_bar()` with transformations on both the x and y axes. The `bin` argument accepts a boolean or an `alt.Bin()` function where the argument `maxbins` can be used - `bin=alt.Bin(maxbins=100)`."
      ],
      "id": "d9eeada9"
    },
    {
      "cell_type": "code",
      "metadata": {},
      "source": [
        "chart = (alt.Chart(diamonds)\n",
        "  .encode(\n",
        "    x =alt.X(\"price\", bin=True),\n",
        "    y =alt.Y(\"count()\")\n",
        "    )\n",
        "  .mark_bar())\n",
        "\n",
        "chart"
      ],
      "id": "02298aad",
      "execution_count": null,
      "outputs": []
    },
    {
      "cell_type": "markdown",
      "metadata": {},
      "source": [
        "#```{r, echo = FALSE, out.height = \"50%\"}\n",
        "#knitr::include_graphics(\"screenshots/altair_histogram.png\")\n",
        "````\n",
        "\n",
        "For more complicated transformations Altair provides __transform__ functions. We saw one of these transforms previously when we used `.mark_line()` to describe each drive type. If you are working with pandas DataFrames then you may want to do these transformations using pandas. [Altair's transformations](https://altair-viz.github.io/user_guide/transform/index.html) can be used with DataFrames as well as JSON files or URL pointers to CSV files. \n"
      ],
      "id": "7f8d181b"
    },
    {
      "cell_type": "code",
      "metadata": {},
      "source": [
        "chartright = (alt.Chart(mpg)\n",
        "  .encode(\n",
        "    x = \"displ\",\n",
        "    y = \"hwy\",\n",
        "    color=alt.Color(\"drv\", legend=None)\n",
        "    )\n",
        "  .transform_loess(\"displ\", \"hwy\", groupby = [\"drv\"])\n",
        "  .mark_line())\n",
        "\n",
        "chartright"
      ],
      "id": "11513d16",
      "execution_count": null,
      "outputs": []
    },
    {
      "cell_type": "markdown",
      "metadata": {},
      "source": [
        "#```{r, fig.width = 3, fig.align = 'default', message = FALSE, echo=FALSE}\n",
        "#knitr::include_graphics(\"screenshots/altair_chartright.png\")\n",
        "````\n",
        "\n",
        "Finally, `.mark_boxplot()` is available which does the statistical transformations for you after you specify the encodings for the x and y axes."
      ],
      "id": "56ce8dff"
    },
    {
      "cell_type": "code",
      "metadata": {},
      "source": [
        "chart = (alt.Chart(diamonds)\n",
        "  .encode(\n",
        "    y =\"price\",\n",
        "    x =\"cut\"\n",
        "    )\n",
        "  .mark_boxplot(size = 25)\n",
        "  .properties(width = 300))\n",
        "\n",
        "chart"
      ],
      "id": "b9888365",
      "execution_count": null,
      "outputs": []
    },
    {
      "cell_type": "markdown",
      "metadata": {},
      "source": [
        "#```{r, echo = FALSE, out.width = \"50%\"}\n",
        "#knitr::include_graphics(\"screenshots/altair_boxplot.png\")\n",
        "````\n",
        "\n",
        "\n",
        "## Position adjustments\n",
        "\n",
        "There's one more piece of magic associated with bar charts. You can colour a bar chart using either the `stroke` aesthetic, or, more usefully, `color`:\n"
      ],
      "id": "04f41c11"
    },
    {
      "cell_type": "code",
      "metadata": {},
      "source": [
        "chart_left = (alt.Chart(diamonds)\n",
        "  .encode(\n",
        "    x = \"cut\",\n",
        "    y = alt.Y(\"count()\"),\n",
        "    stroke = \"cut\"\n",
        "    )\n",
        "  .mark_bar()\n",
        "  .properties(width = 200))\n",
        "  \n",
        "chart_right = (alt.Chart(diamonds)\n",
        "  .encode(\n",
        "    x = \"cut\",\n",
        "    y = alt.Y(\"count()\"),\n",
        "    color = \"cut\"\n",
        "    )\n",
        "  .mark_bar()\n",
        "  .properties(width = 200)) \n",
        "\n",
        "chart_left"
      ],
      "id": "111fe58a",
      "execution_count": null,
      "outputs": []
    },
    {
      "cell_type": "markdown",
      "metadata": {},
      "source": [
        "```{pytho, cache= FALSE}\n",
        "chart_right\n",
        "```\n",
        "\n",
        "\n",
        "\n",
        "#```{r out.width = \"50%\", fig.align = \"default\", echo=FALSE}\n",
        "#knitr::include_graphics(\"screenshots/altair_bar_linecolor.png\")\n",
        "#knitr::include_graphics(\"screenshots/altair_bar_fillcolor.png\")\n",
        "````\n",
        "\n",
        "Note what happens if you map the color encoding to another variable, like `clarity`: the bars are automatically stacked. Each colored rectangle represents a combination of `cut` and `clarity`."
      ],
      "id": "335a0a43"
    },
    {
      "cell_type": "code",
      "metadata": {},
      "source": [
        "chart = (alt.Chart(diamonds)\n",
        "  .encode(\n",
        "    x = \"cut\",\n",
        "    y = alt.Y(\"count()\"),\n",
        "    color = \"clarity\"\n",
        "    )\n",
        "  .mark_bar()\n",
        "  .properties(width = 200))\n",
        "  \n",
        "chart "
      ],
      "id": "d2821fd4",
      "execution_count": null,
      "outputs": []
    },
    {
      "cell_type": "markdown",
      "metadata": {},
      "source": [
        "#```{r, out.width = \"60%\", echo=FALSE}\n",
        "#knitr::include_graphics(\"screenshots/stacked_barchart.png\")\n",
        "````\n",
        "\n",
        "The stacking is performed automatically by `.mark_bar()`. If you don't want a stacked bar chart, you can use use the `stack` argument in  `alt.Y()` one of three other options: `\"identity\"`, `\"dodge\"` or `\"fill\"`.\n",
        "\n",
        "*   `position = \"identity\"` will place each object exactly where it falls in\n",
        "    the context of the graph. This is not very useful for bars, because it\n",
        "    overlaps them. To see that overlapping we either need to make the bars\n",
        "    slightly transparent by setting `alpha` to a small value, or completely\n",
        "    transparent by setting `fill = NA`.\n"
      ],
      "id": "7daa021a"
    },
    {
      "cell_type": "code",
      "metadata": {
        "md-indent": "    "
      },
      "source": [
        "chart_left = (alt.Chart(diamonds)\n",
        "    .encode(\n",
        "      x = \"cut\",\n",
        "      y = alt.Y(\"count()\", stack=None),\n",
        "      color = \"clarity\",\n",
        "      opacity = alt.value(1/5)\n",
        "      )\n",
        "    .mark_bar()\n",
        "    .properties(width = 200))\n",
        "\n",
        "chart_right = (alt.Chart(diamonds)\n",
        "    .encode(\n",
        "      x = \"cut\",\n",
        "      y = alt.Y(\"count()\", stack=None),\n",
        "      stroke = \"clarity\",\n",
        "      color = alt.value(\"none\")\n",
        "      )\n",
        "    .mark_bar()\n",
        "    .properties(width = 200))\n",
        "\n",
        "chart_left"
      ],
      "id": "c2a2a7c2",
      "execution_count": null,
      "outputs": []
    },
    {
      "cell_type": "code",
      "metadata": {
        "md-indent": "    "
      },
      "source": [
        "chart_right"
      ],
      "id": "91dff7e9",
      "execution_count": null,
      "outputs": []
    },
    {
      "cell_type": "markdown",
      "metadata": {},
      "source": [
        "      #```{r out.width = \"50%\", fig.align = \"default\", echo = FALSE}\n",
        "      #knitr::include_graphics(\"screenshots/altair_nostack_opacity.png\")\n",
        "      #knitr::include_graphics(\"screenshots/altair_nostack_lines.png\")\n",
        "      ````\n",
        "\n",
        "*   `position = \"fill\"` works like stacking, but makes each set of stacked bars\n",
        "    the same height. This makes it easier to compare proportions across\n",
        "    groups.\n"
      ],
      "id": "cf6a491e"
    },
    {
      "cell_type": "code",
      "metadata": {
        "md-indent": "    "
      },
      "source": [
        "chart = (alt.Chart(diamonds)\n",
        "  .mark_bar()\n",
        "  .encode(\n",
        "    x = \"cut\",\n",
        "    y = alt.Y(\"count()\", stack='normalize'),\n",
        "    color = \"clarity\"\n",
        "    )\n",
        "  .mark_bar()\n",
        "  .properties(width = 200))\n",
        "\n",
        "chart"
      ],
      "id": "963cc18e",
      "execution_count": null,
      "outputs": []
    },
    {
      "cell_type": "markdown",
      "metadata": {},
      "source": [
        "    #```{r,  out.width = \"50%\"}\n",
        "    #knitr::include_graphics(\"screenshots/altair_normalize_bar.png\")\n",
        "    ````\n",
        "\n",
        "*   Placing overlapping objects directly _beside_ one another is done by using the `column` encoding.     This makes it easier to compare individual values with a common baseline.\n"
      ],
      "id": "8ee2ab3e"
    },
    {
      "cell_type": "code",
      "metadata": {
        "md-indent": "    "
      },
      "source": [
        "chart = (alt.Chart(diamonds)\n",
        "  .encode(\n",
        "    x='clarity',\n",
        "    y=alt.Y('count()'),\n",
        "    color='clarity',\n",
        "    column='cut'\n",
        "    )\n",
        "  .mark_bar())\n",
        "\n",
        "chart"
      ],
      "id": "e01a7ff2",
      "execution_count": null,
      "outputs": []
    },
    {
      "cell_type": "markdown",
      "metadata": {},
      "source": [
        "    #```{r, echo=FALSE, out.width = \"100%\"}\n",
        "    #knitr::include_graphics(\"screenshots/altair_position_dodge.png\")\n",
        "    ````\n",
        "\n",
        "Altair does not have a simple way to add random jitter to points using an encoding or simple argument to `alt.X()` or `alt.Y()`. Altair can create a jittered point plot, also called a [stripplot](https://altair-viz.github.io/gallery/stripplot.html).  However, it is not as straight forward.\n",
        "\n",
        "We should note that Altair also does not provide piechart or donut chart marks as well.\n",
        "\n",
        "## Coordinate systems (maps)\n",
        "\n",
        "Coordinate systems are generally on an x and y axis in Altair. This coordinate system is the Cartesian coordinate system, where the x and y positions act independently to determine the location of each point. Maps are on a Cartesian coordinate system, but their behavior is different as they require a [transformation or projection](https://altair-viz.github.io/gallery/world_projections.html) of the globe to an x and y Cartesian plane.\n",
        "\n",
        "Visualizing data on maps can get complicated quickly.  Altair has a some [mapping marks](https://altair-viz.github.io/gallery/index.html#maps) available for charts. The data formats for plotting with maps also get more involved.  You can use the [gpdvega](https://iliatimofeev.github.io/gpdvega/) package to help with spatial data in Altair. Many Python users us [geopandas](https://geopandas.org/) or [Shapely](https://pypi.org/project/Shapely/1.6.3/) to handle spatial data in Python. [PennState has a nice list](https://www.e-education.psu.edu/geog489/node/2201) of spatial tools for Python. \n",
        "\n",
        "## The layered grammar of graphics\n",
        "\n",
        "In the previous sections, you learned much more than how to make scatterplots, bar charts, and boxplots. You learned a foundation that you can use to make _any_ type of plot with Altair. To see this, let's add position adjustments, stats, coordinate systems, and faceting to our code template:\n",
        "\n",
        "````\n",
        "(alt.Chart(<DATA>)\n",
        "  .encoding(\n",
        "    \n",
        "    )\n",
        "  .facet(\n",
        "    column = <FACET VARIABLE>\n",
        "    )\n",
        "  .<TRANFORM_FUNCTION>()\n",
        "  .<MARK_FUNCTION>()\n",
        "  .properties(\n",
        "    width = ,\n",
        "    height = \n",
        "  ))\n",
        "````\n",
        "\n",
        "Altair's general template takes four main parameters - `alt.Chart()`, `.mark_*()`, `.encode()`, and `.facet()`. In practice, only need to supply the first three parameters to make a chart because Altair will provide useful defaults for everything except the data, the encodings, and the mark function.\n",
        "\n",
        "The parameters in the template compose the grammar of graphics, a formal system for building plots. The grammar of graphics is based on the insight that you can uniquely describe _any_ plot as a combination of a dataset, a mark, a set of encodings, a transformation, a position adjustment, and a faceting scheme.\n",
        "\n",
        "To see how this works, consider how you could build a basic plot from scratch: you could start with a dataset and then transform it into the information that you want to display (with a stat).\n",
        "\n",
        "#```{r, echo = FALSE, out.width = \"100%\"}\n",
        "#knitr::include_graphics(\"images/visualization-grammar-1-altair.png\")\n",
        "````\n",
        "\n",
        "Next, you could choose a geometric object to represent each observation in the transformed data. You could then use the aesthetic properties of the geoms to represent variables in the data. You would map the values of each variable to the levels of an aesthetic.\n",
        "\n",
        "#```{r, echo = FALSE, out.width = \"100%\"}\n",
        "#knitr::include_graphics(\"images/visualization-grammar-2-altair.png\")\n",
        "````\n",
        "\n",
        "You'd then select a coordinate system to place the geoms into. You'd use the location of the objects (which is itself an aesthetic property) to display the values of the x and y variables. At that point, you would have a complete graph, but you could further adjust the positions of the geoms within the coordinate system (a position adjustment) or split the graph into subplots (faceting). You could also extend the plot by adding one or more additional layers, where each additional layer uses a dataset, a geom, a set of mappings, a stat, and a position adjustment.\n",
        "\n",
        "#```{r, echo = FALSE, out.width = \"100%\"}\n",
        "#knitr::include_graphics(\"images/visualization-grammar-3-altair.png\")\n",
        "````\n",
        "\n",
        "You could use this method to build _any_ plot that you imagine. In other words, you can use the code template that you've learned in this chapter to build hundreds of thousands of unique plots.\n",
        "\n",
        "## Altair's grammar of graphics\n",
        "\n",
        "[Plotnine](https://plotnine.readthedocs.io/en/stable/index.html) is a Python implementation of [ggplot2 in R's](https://ggplot2.tidyverse.org/) grammar of graphics using [matplotlib](https://matplotlib.org/) as the plotting backend. Altair's implementation of the grammar of graphics is much like ggplot2 or plotnine at a high level.  However, it uses the [Vega-Lite](https://vega.github.io/vega-lite/) grammar of graphics constructs and plotting backend. \n",
        "\n",
        "Below are some useful links that will help you dig deeper into the Altair implementation of the grammar of graphics.\n",
        "\n",
        "- Altair [mark guidance](https://altair-viz.github.io/user_guide/marks.html)\n",
        "- Altair [encoding guidance](https://altair-viz.github.io/user_guide/encoding.html)\n",
        "- Altair [facet guidance](https://altair-viz.github.io/user_guide/compound_charts.html?highlight=bin%20scale)\n",
        "- Altair [tranformations guidance](https://altair-viz.github.io/user_guide/transform/index.html)\n",
        "- Altair [chart customization](https://altair-viz.github.io/user_guide/customization.html)\n",
        "- Altair [sorting barcharts](https://altair-viz.github.io/gallery/bar_chart_sorted.html)\n",
        "- Altair [theme editing](https://towardsdatascience.com/consistently-beautiful-visualizations-with-altair-themes-c7f9f889602)\n",
        "- Altair [Encoding data types](https://altair-viz.github.io/user_guide/encoding.html?highlight=data%20types#encoding-data-types)\n",
        "\n",
        "\n",
        "<!-- https://github.com/altair-viz/altair/issues/1021 -->\n",
        "<!-- https://altair-viz.github.io/gallery/scatter_marginal_hist.html -->\n",
        "<!-- https://altair-viz.github.io/case_studies/exploring-weather.html -->\n"
      ],
      "id": "18a0a4fc"
    }
  ],
  "metadata": {
    "kernelspec": {
      "name": "python3",
      "language": "python",
      "display_name": "Python 3 (ipykernel)"
    }
  },
  "nbformat": 4,
  "nbformat_minor": 5
}